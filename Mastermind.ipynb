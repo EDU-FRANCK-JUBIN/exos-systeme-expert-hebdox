{
 "cells": [
  {
   "cell_type": "markdown",
   "metadata": {},
   "source": [
    "# Exemple d'algorithmes génétiques avec un master mind \n",
    "## Objectif :\n",
    "présenter simplement les algorithmes génétiques à l'aide d'un exemple simple, un master mind !\n",
    "Ce fichier sera le premier d'une songue série de notebooks sur les algorithmes génétiques. \n",
    "Il pourra m'aider à l'analyse des différentes techniques et à leurs cas d'utilisation.\n",
    "L'objectif est pour la machine de deviner une combinaison en un minimum d'iterations. \n",
    "Moins il y a d'iterations, plus l'algorithme est performant.Dans le mastermind original, l'utilisateur a perdu s'il ne trouve pas la combinaison gagnante au bout d'un certain nombre d'iterations. \n",
    "Dans l'exemple ici, la machine ne peut pas perdre. L'objectif était de tester la robustesse des algorithmes.\n",
    "## Règle du mastermind\n",
    "Le mastermind se joue à 2 joueurs, sur un plateau de 4 colonnes et de 12 rangés et se joue avec des billes de 4 couleurs différentes.Le mastermind possède une combinaison secrète de 4 billes de couleurs, et l'objectif du joueur est de deviner avant la 13e tentative la combinaison secrète. \n",
    "Pour l'aider, il lui est révélé né nombre de billes posées au bon endroit et de la bonne couleur, sans lui reveler lesquels sont correctes.\n",
    "## Ce qui est présenté dans ce notebook\n",
    "- La notion de fitness\n",
    "- La notion de population\n",
    "- La notion d'individus\n",
    "- La notion de chromosomes\n",
    "- La notion de genes \n",
    "## Concepts avancée dans ce notebook\n",
    "- Les types de sélections    \n",
    "    - Sélection par roulette    \n",
    "    - Sélection par rang    \n",
    "    - Sélection par tournoi    \n",
    "    - Sélection aléatoire\n",
    "- La notion d'élitisme\n",
    "- Les types de reproduction d'individus    \n",
    "    - One point cross-over    \n",
    "    - Two-point cross-over    \n",
    "    - Uniforme Cross-Over"
   ]
  },
  {
   "cell_type": "code",
   "execution_count": 17,
   "metadata": {},
   "outputs": [],
   "source": [
    "# Importation des librairies utilisés\n",
    "import random\n",
    "defaultProbaPerLetter = 10\n",
    "batch_size = 30"
   ]
  },
  {
   "cell_type": "code",
   "execution_count": 18,
   "metadata": {},
   "outputs": [],
   "source": [
    "# Definition du plateau\n",
    "class Plateau:\n",
    "    def __init__(self, secret):\n",
    "        self.secret = secret\n",
    "        self.secretLen = len(secret);\n",
    "        #initialisation des genes (probabilité de 10 chaqu'un)\n",
    "        self.caracteres = \"azertyuiopqsdfghjklmwxcvbn0123456789_'\";\n",
    "        self.genesDict = []\n",
    "        self.totalGenesCount = defaultProbaPerLetter*len(self.caracteres)\n",
    "        # remplissage du tableau de prédiction avec la valeur par defaut.\n",
    "        for i in range (0,self.secretLen):\n",
    "            self.genesDict.append({});\n",
    "            for l in self.caracteres:\n",
    "                self.genesDict[i][l] = defaultProbaPerLetter;\n",
    "        \n",
    "    def printDict(self):\n",
    "        print(self.genesDict)\n",
    "        \n",
    "    '''\n",
    "    Cette fonction sert à mémoriser les résultats générés précedement. il enregistre pour chaque \n",
    "    case les résultats obtenus lors des precedentes tentatives. Cela permet à l'algorithme d'affiner lentement \n",
    "    sa prédiction pour tendre vers la bonne solution.\n",
    "    '''\n",
    "    def evolveGenes(self, individu, fitness):\n",
    "        if (fitness == 0):\n",
    "            return;\n",
    "        index = 0\n",
    "        for l in individu:\n",
    "            self.genesDict[index][l]+= fitness\n",
    "            index+=1;\n",
    "        self.totalGenesCount += fitness"
   ]
  },
  {
   "cell_type": "markdown",
   "metadata": {},
   "source": [
    "Il existe aussi une methode appelée uniform crossover, qui change aléatoirement les genes, dans \"paquets ou coupures\"distinctes. Un exemple avec les deux parents ----- et +++++ peut donner -+-+-. \n",
    "__Cet exemple n'est pas encore implémenté dans l'algorithme.__\n",
    "<hr>\n",
    "Voici la definition du joueur."
   ]
  },
  {
   "cell_type": "code",
   "execution_count": 19,
   "metadata": {},
   "outputs": [],
   "source": [
    "# Definition du joueur. \n",
    "# Il va jouer un coup, et le changer (muter) pour chercher une meilleur combinaision\n",
    "class Joueur:\n",
    "    def __init__(self, plateau):\n",
    "        self.p = plateau;\n",
    "        self.crossoverOne = True;\n",
    "        \n",
    "    # Generation d'un individu aléatoire.\n",
    "    def generateRandomPlay(self):\n",
    "        individu = \"\";\n",
    "        for i in range(0,self.p.secretLen):\n",
    "            lettre = p.caracteres[random.randint(0, len(p.caracteres)-1)];\n",
    "            individu += lettre\n",
    "        return individu;\n",
    "    \n",
    "    # generation d'un individu dont les genes sont probabilisé par les résultats précedents\n",
    "    def generatePlay(self):\n",
    "        individu = \"\";\n",
    "        for i in range(0,self.p.secretLen):\n",
    "            letterIndex = random.randint(0, p.totalGenesCount)\n",
    "            for l in p.genesDict[i]:\n",
    "                if (letterIndex - int(p.genesDict[i][l]) <= 0):\n",
    "                    individu+=l\n",
    "                    break\n",
    "                else:\n",
    "                    letterIndex -= p.genesDict[i][l]\n",
    "        return individu;\n",
    "    \n",
    "    # generation d'une population de 10 individus (par defaut) avec des genes aléatoires.\n",
    "    def generatePopulation(self):\n",
    "        pop = [];\n",
    "        for i in range(0,batch_size):\n",
    "            play = self.generateRandomPlay();\n",
    "            pop.append(play);\n",
    "        return pop;\n",
    "    \n",
    "    '''\n",
    "    Cette fonction genere des enfants qui possede une partie des genes de son parent.\n",
    "    la generation des genes des enfant est généré par un one point crossover, ou un two point crossover.\n",
    "    Le principe de mutation n'est pas introduit ici. il a pour principe de changer au hasard un gene sans \n",
    "    tenir compte de sa probabilité. Les mutations doivent etre rarent, et permettent de limiter la convergence\n",
    "    de l'algorithme.\n",
    "    '''\n",
    "    def generatePopulationFromParent(self, parent):\n",
    "        pop = [];\n",
    "        for i in range(0,batch_size):\n",
    "            play = self.generatePlay();\n",
    "            if (self.crossoverOne):\n",
    "                play = self.onePointCrossover(play);\n",
    "            else:\n",
    "                play = self.twoPointCrossover(play);\n",
    "            pop.append(play);\n",
    "        return pop;\n",
    "        \n",
    "    '''\n",
    "    La fitness est la valeur utilisée par l'algorithme pour estimer ou noter le resultat d'un individu\n",
    "    sur l'objectif à atteindre. Dans notre cas, chaque lettre correctement placée compte comme 1 point.\n",
    "    La fitness maximale est donc la taille du mot secret !\n",
    "    '''\n",
    "    def getFitness(self, individu):\n",
    "        fitness = 0;\n",
    "        for i in range(0,self.p.secretLen):\n",
    "            if(self.p.secret[i] == individu[i]):\n",
    "                fitness += 1;\n",
    "        return fitness;\n",
    "    \n",
    "    # retourne l'index dans la population de l'element avec la meilleur fitness \n",
    "    # (la plus haute correspondence au mot secret)\n",
    "    def getFittestIndex(self, population):\n",
    "        index = 0\n",
    "        fittest = self.getFitness(population[index])\n",
    "        for i in range(0,self.p.secretLen):\n",
    "            fit = self.getFitness(population[i])\n",
    "            if (fittest < fit):\n",
    "                index = i;\n",
    "                fittest = fit;\n",
    "        return index;\n",
    "    \n",
    "    ''' \n",
    "    Le one point crossover est une methode de generation d'enfant.\n",
    "    Admettons un parent avec le chromosome (ensemble de genes) suivant : '-----''\n",
    "    Et admettons un individu généré avec les genes suivant : '+++++'\n",
    "    Le one point crossover va generer l'enfant des deux parents en prennant \n",
    "    un index aléatoirement, puis en melangeant les genes du premier parent avec le second\n",
    "    sur cet index.\n",
    "    exemple avec l'index 2, l'enfant des deux parents ci dessus donne : '--+++'.\n",
    "    '''\n",
    "    def onePointCrossover(self, individu):\n",
    "        side = random.randint(0, 1)\n",
    "        i = random.randint(1,self.p.secretLen-1)\n",
    "        play = self.generateRandomPlay()\n",
    "        if (side == 0):\n",
    "            ret = individu[:i] + play[:self.p.secretLen-i]\n",
    "        else:\n",
    "            ret = play[:i] + individu[i-self.p.secretLen:] \n",
    "        return ret;\n",
    "        \n",
    "    '''\n",
    "    Le two point crossover sert egalement à melanger les genes de deux parents, mais cette fois-çi avec deux\n",
    "    index.\n",
    "    Donc pour les mêmes parents ----- et +++++ avec les index 2 et 4, l'enfant donnera : --++-.\n",
    "    '''\n",
    "    def twoPointCrossover(self, individu):\n",
    "        i = random.randint(0,self.p.secretLen-1)\n",
    "        size = random.randint(1,self.p.secretLen-i)\n",
    "        play = self.generateRandomPlay()\n",
    "        ret = individu[0:i] + play[i:i+size] + individu[i+size:self.p.secretLen]\n",
    "        return ret;"
   ]
  },
  {
   "cell_type": "code",
   "execution_count": 20,
   "metadata": {},
   "outputs": [],
   "source": [
    "# Initialisation du jeu\n",
    "# Definir 5 combinaisons de 38 possibilités correspond à une chance sur 3.64e+26 de tomber sur la bonne.\n",
    "p = Plateau(\"wha0u\");\n",
    "j = Joueur(p);\n"
   ]
  },
  {
   "cell_type": "markdown",
   "metadata": {},
   "source": [
    "Ici, nous allons selectionner le meilleur parent, et le faire se reproduire pour former la prochaine generation. C'est à mon sens la meilleure solution dans ce cas, car il n'existe qu'une seule solution, qui est accessible via un seul chemin. Résuire le nombre de parents permet donc de converger plus rapidement vers la meilleure solution."
   ]
  },
  {
   "cell_type": "markdown",
   "metadata": {},
   "source": [
    "Voici l'algorithme principal de la résolution du mastermind. un bref résumé de l'algorithme donne :\n",
    "- Création d'une population aléatoire\n",
    "- Calcul de la fitness de la population, et récuperation du meilleur individu\n",
    "- Jusqu'a ce que la solution soit trouvé, faire :\n",
    "    - Selectionner un parent depuis la population, \n",
    "    - Appliquer un crossover et generer une nouvelle population\n",
    "    - Calculer la fitness de la nouvelle population"
   ]
  },
  {
   "cell_type": "code",
   "execution_count": null,
   "metadata": {},
   "outputs": [],
   "source": [
    "# algorithme principal :\n",
    "#création d'une population de 10 individus pour le demarrage :\n",
    "pop = j.generatePopulation();\n",
    "fittestIndex = j.getFittestIndex(pop)\n",
    "fitness = j.getFitness(pop[fittestIndex])\n",
    "print(pop[fittestIndex] + \"   --fitness : \"+str(fitness));\n",
    "p.evolveGenes(pop[fittestIndex], fitness)\n",
    "p.printDict()\n",
    "i=1;\n",
    "while (fitness < p.secretLen):\n",
    "    pop = j.generatePopulationFromParent(pop[fittestIndex])\n",
    "    fitness = j.getFitness(pop[fittestIndex])\n",
    "    p.evolveGenes(pop[fittestIndex], fitness)\n",
    "    print(pop[fittestIndex] + \"   --fitness : \"+str(fitness));\n",
    "    i+=1;\n",
    "\n",
    "print(\"!! Trouvé !! - \"+ pop[fittestIndex]+\"  //  tentatives : \"+str(i))"
   ]
  },
  {
   "cell_type": "markdown",
   "metadata": {},
   "source": [
    "Dans l'algorithme principal au dessus, La selection du parent se fait simplement par le fair que le meilleur l'emporte. Cependant il existe plusieurs autres types de selection de parents. Nous allons en voir quelques exemples en dessous.\n",
    "<hr>\n",
    "\n",
    "# La selection par roulette\n",
    "Le principe est simple. Les individus avec le plus de fitness ont plus de chance d'etre gardé pour la prochaine production de la population. illustration simple en image :"
   ]
  },
  {
   "cell_type": "markdown",
   "metadata": {},
   "source": [
    "<img src=\"https://www.researchgate.net/profile/Manfred_Breit/publication/237507026/figure/fig7/AS:298797780488200@1448250350801/Roulette-wheel-selection-using-fitness-weighted-probability.png\" alt=\"roulette wheel selection;\">"
   ]
  },
  {
   "cell_type": "markdown",
   "metadata": {},
   "source": [
    "[Source de l'image](https://www.researchgate.net/figure/Roulette-wheel-selection-using-fitness-weighted-probability_fig7_237507026)\n",
    "\n",
    "Voici un algorithme pour le mettre en place :"
   ]
  },
  {
   "cell_type": "code",
   "execution_count": 21,
   "metadata": {},
   "outputs": [],
   "source": [
    "#TODO"
   ]
  },
  {
   "cell_type": "markdown",
   "metadata": {},
   "source": [
    "<hr>\n",
    "\n",
    "# Sélection par rang\n",
    "<img src=\"https://www.tutorialspoint.com/genetic_algorithms/images/rank_selection.jpg\" alt=\"rank selection;\">\n",
    "Avec cette selection. on garde un nombre fixe d'individus issu de la population ayant la meilleur fitness. une fois ces individus en nôtre pocession, on en selectionne un au hasard, puis on regénere la population.\n",
    "\n",
    "Cette methode fonctionne avec des elements posedant une fitness negative, mais à l'inconvenient de perdre en selection naturelle rapidement, et ainsi donc privilegier les mauvais parents lors de la génération.\n",
    "\n",
    "exemple d'algorithme ci dessous :"
   ]
  },
  {
   "cell_type": "code",
   "execution_count": 22,
   "metadata": {},
   "outputs": [],
   "source": [
    "#TODO"
   ]
  },
  {
   "cell_type": "code",
   "execution_count": null,
   "metadata": {},
   "outputs": [],
   "source": []
  },
  {
   "cell_type": "code",
   "execution_count": null,
   "metadata": {},
   "outputs": [],
   "source": []
  },
  {
   "cell_type": "code",
   "execution_count": null,
   "metadata": {},
   "outputs": [],
   "source": []
  },
  {
   "cell_type": "code",
   "execution_count": null,
   "metadata": {},
   "outputs": [],
   "source": [
    "individu = j.generateRandomPlay();\n",
    "fitness = j.getFitness(individu);\n",
    "pop = j.generatePopulation();\n",
    "index = j.getFittestIndex(pop);\n",
    "#print(individu + \"   -- fitness : \"+str(fitness));\n",
    "print(pop)\n",
    "print (index)\n",
    "print(j.getFitness(pop[index]))"
   ]
  },
  {
   "cell_type": "code",
   "execution_count": null,
   "metadata": {},
   "outputs": [],
   "source": []
  }
 ],
 "metadata": {
  "kernelspec": {
   "display_name": "Python 3",
   "language": "python",
   "name": "python3"
  },
  "language_info": {
   "codemirror_mode": {
    "name": "ipython",
    "version": 3
   },
   "file_extension": ".py",
   "mimetype": "text/x-python",
   "name": "python",
   "nbconvert_exporter": "python",
   "pygments_lexer": "ipython3",
   "version": "3.7.4"
  }
 },
 "nbformat": 4,
 "nbformat_minor": 2
}
